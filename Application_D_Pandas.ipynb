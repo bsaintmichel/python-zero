{
 "cells": [
  {
   "cell_type": "markdown",
   "metadata": {},
   "source": [
    "## Apprivoisez les Pandas et leurs _DataFrames_"
   ]
  },
  {
   "cell_type": "markdown",
   "metadata": {},
   "source": [
    "### Généralités\n",
    "\n",
    "Dr. X est un grand habitué des tableurs, comme Origin, Excel et Calc. Le format tableau permet de visualiser efficacement les données, de les manipuler et d'avoir une grande flexibilité sur leur contenu (texte, nombres, dates). Dr. X ne se perd pas dans ses tableaux grâce aux en-têtes des colonnes, et peut les classer, les filtrer selon ses goûts. Dr. X apprécie la possibilités de tracer des graphes à la volée, même si ceux-ci ne sont pas tout à fait de qualité _publication_. Dr. X est également heureux de savoir que ses fichiers sont rapidement exportables en un format texte, de type `.csv` ou  `.tsv`.\n",
    "\n",
    "Dr. X sera donc ravi d'en apprendre plus sur les `Pandas.Dataframe`, un type d'objet qui vont s'utiliser comme des tableurs en Python. Nous verrons dans ce tutorial : \n",
    "* comment [créer, importer et exporter des `DataFrame`](#acceder-aux-donnees-dun-dataframe) à partir de dictionnaires Python ou de fichiers `.csv` et Excel\n",
    "* comment [accéder aux données d'un `DataFrame`](#acceder-a-un-dataframe) pour afficher une ligne, une colonne ou une sélection arbitraire\n",
    "* comment [manipuler les données au sein de ces `DataFrame`](#modifier-les-dataframes) pour modifier des valeurs, ajouter ou supprimer des colonnes et des lignes ou bien les trier.\n",
    "* comment [effectuer des opérations de groupe](#operations-de-groupe) sur les données, notamment les `groupby()`, `agg()` pour exploiter la puissance totale des DataFrames !\n",
    "* comment [fusionner deux `DataFrame` et plus](#fusionner-deux-dataframe-avec-merge-join-et-concat) avec les méthodes `.merge()`, `.join()`, `.concat()` !\n",
    "\n",
    "L'objectif va être de 'retrouver les sensations d'Excel' le plus rapidement possible. \n",
    "\n",
    "----------------------------------"
   ]
  },
  {
   "cell_type": "markdown",
   "metadata": {},
   "source": [
    "### Creer un DataFrame\n",
    "\n",
    "Il est possible de créer un `DataFrame` _ex nihilo_ à partir d'un dictionnaire Python, mais nous verrons rapidement que cela n'est probablement pas la manière la plus efficace de les générer. Nous verrons rapidement ensuite comment les importer, par exemple depuis un fichier `.csv`. "
   ]
  },
  {
   "cell_type": "markdown",
   "metadata": {},
   "source": [
    "#### À partir d'un dictionnaire ou d'un tableau NumPy\n",
    "\n",
    "Reprenons notre inénarrable exemple de notre groupe de TD et de ses notes. Cela confine à l'obsession, mais c'est pour la bonne cause. Créons un dictionnaire contenant quatre clés : \n",
    "\n",
    "* `Prénom`\n",
    "* `Nom`\n",
    "* `TD_1`, la note obtenue au TD 1\n",
    "* `TD_2`, la note obtenue au TD 2\n",
    "\n",
    "Compte tenu de la manière dont on a créé notre dictionnaire, il va être assez difficile, par exemple, d'obtenir la note de `Debasish` au TD2. Il faudrait, pour cela, retrouver l'_indice_ auquel on trouve `Debasish` dans la `list` correspondant à `first_name` et examiner la note de l'indice correspondant dans `TD_2`. \n",
    "\n",
    "Il existe une fonction [numpy.where()](https://numpy.org/doc/stable/reference/generated/numpy.where.html) qui renvoie un tel indice à partir d'un objet `np.ndarray`, mais vous pouvez constater que cette solution n'est pas très intuitive."
   ]
  },
  {
   "cell_type": "code",
   "execution_count": null,
   "metadata": {},
   "outputs": [],
   "source": [
    "import numpy as np\n",
    "\n",
    "my_dict = {'first_name':['Olivier', 'Serguey', 'Aika', 'Debasish', 'Muhammad', 'Lu' ],\n",
    "            'last_name': ['Margoulin', 'Prigogine', 'Tokogawa', 'Sarker', 'Ben Amar', 'Ai'],\n",
    "            'TD_1':[18,14,13,11,16,12],\n",
    "            'TD_2':[13,17,15,13,10,9],\n",
    "            }\n",
    "\n",
    "### Numpy solution\n",
    "# Find index where `Debasish` is found in `first_names`\n",
    "# Note : np.where returns two arguments, one being empty if we are looking in 1D arrays\n",
    "idx_match,  = np.where(np.array(my_dict['first_name']) == 'Debasish') \n",
    "grade = my_dict['TD_2'][idx_match[0]] # \n",
    "print('Grade is : ' + str(grade))"
   ]
  },
  {
   "cell_type": "markdown",
   "metadata": {},
   "source": [
    "C'est ici que les `DataFrame` vont nous aider ! On peut les créer directement à partir d'un dictionnaire, d'un tableau `np.ndarray`, ou bien d'autres types de données. La plupart du temps, on peut simplement en créer un en invoquant la commande `pd.DataFrame()` et en mettant en entrée les données que vous voulez voir converties. Regardons ce que ça donne si on essaie avec un dictionnaire : "
   ]
  },
  {
   "cell_type": "code",
   "execution_count": null,
   "metadata": {},
   "outputs": [],
   "source": [
    "import pandas as pd             # Not the best shorthand for French people ...\n",
    "\n",
    "my_df = pd.DataFrame(my_dict)\n",
    "my_df"
   ]
  },
  {
   "cell_type": "markdown",
   "metadata": {},
   "source": [
    "Vous voyez ici déjà que l'affichage de vos données est plutôt joli par rapport à ce que Python vous sert en général, et ressemble assez furieusement à un tableau Excel. Chouette, non ? Le format a également l'air de bien s'accommoder de mélanger des chaînes de caractère et des chiffres, mais ça, c'était déjà le cas avec les listes et bien d'autres types de variables en Python.\n",
    "\n",
    "__Exercice__ : Essayez de faire la même chose à partir d'un tableau `np.ndarray` à plusieurs dimensions, et regardez comment les données s'organisent. "
   ]
  },
  {
   "cell_type": "code",
   "execution_count": null,
   "metadata": {},
   "outputs": [],
   "source": [
    "# Your beautiful code here"
   ]
  },
  {
   "cell_type": "markdown",
   "metadata": {},
   "source": [
    "#### À partir d'un fichier .csv, voire Excel\n",
    "\n",
    "La meilleure manière de créer des `pd.DataFrame` reste cependant des les importer depuis un fichier formatté avec la bien-nommée fonction `pd.read_csv()`. Essayons de lire mon fichier de rhéologie préféré, `rheology.csv`, qui se trouve dans le sous-dossier `files` et qui a le mauvais goût d'être formatté à la _française_, c'est à dire avec des `';'` comme séparateurs entre colonnes et des `','` comme séparateurs des décimales. "
   ]
  },
  {
   "cell_type": "code",
   "execution_count": null,
   "metadata": {},
   "outputs": [],
   "source": [
    "my_rheol = pd.read_csv('files/rheology.csv') # 'What could go wrong ?'\n",
    "my_rheol                                     # Really wrong things"
   ]
  },
  {
   "cell_type": "markdown",
   "metadata": {},
   "source": [
    "C'est le bazar complet, mais ne vous inquiétez pas, il est possible de spécifier à la fois : \n",
    "\n",
    "* Le délimiteur des champs, `sep` ou `delimiter`\n",
    "* Le séparateur des décimales, `decimal`\n",
    "* Un nombre de lignes à ignorer au début du fichier, `skiprows`\n",
    "\n",
    "Il existe [bien d'autres options](https://pandas.pydata.org/docs/reference/api/pandas.read_csv.html) si vous avez encore des problèmes pour des types de fichiers ou des manières de les lire bien particulières."
   ]
  },
  {
   "cell_type": "code",
   "execution_count": null,
   "metadata": {},
   "outputs": [],
   "source": [
    "my_rheol = pd.read_csv('files/rheology.csv', decimal=',', sep=';')\n",
    "my_rheol"
   ]
  },
  {
   "cell_type": "markdown",
   "metadata": {},
   "source": [
    "Le résultat est bien plus satisfaisant ! \n",
    "\n",
    "Si vous ne voulez _vraiment_ pas vous embêter avec ces paramètres régionaux, vous pouvez également simplement importer un fichier _Excel_ avec `pd.read_excel()`. Celui-ci 'comprend' les fichiers : \n",
    "* `.xls`, par l'intermédiaire du module `xlrd`\n",
    "* `.xlsx`, par l'intermédiaire du module `openpyxl`\n",
    "* `.ods`, par l'intermédiaire du module `odfpy` \n",
    "\n",
    "Dans notre espace de travail, seul `openpyxl` est installé, il ne vous sera donc pas possible d'importer d'autres types de fichiers que `.xslx`. "
   ]
  },
  {
   "cell_type": "code",
   "execution_count": null,
   "metadata": {},
   "outputs": [],
   "source": [
    "my_data = pd.read_excel('files/rheology.xlsx')\n",
    "my_data"
   ]
  },
  {
   "cell_type": "markdown",
   "metadata": {},
   "source": [
    "#### Exporter un DataFrame\n",
    "\n",
    "D'une manière pas tout à fait symétrique aux fonctions `pd.read_csv()` et `pd.read_excel()`, il va être possible d'exporter un DataFrame dans ces formats grâce aux _méthodes_ `.to_csv()` et `.to_excel()`  :  "
   ]
  },
  {
   "cell_type": "code",
   "execution_count": null,
   "metadata": {},
   "outputs": [],
   "source": [
    "my_data.to_csv('./files/my_new_csv_file.csv')\n",
    "my_data.to_excel('./files/my_new_excel_file.xlsx')"
   ]
  },
  {
   "cell_type": "markdown",
   "metadata": {},
   "source": [
    "---------------------"
   ]
  },
  {
   "cell_type": "markdown",
   "metadata": {},
   "source": [
    "### Acceder a un DataFrame\n",
    "\n",
    "Le format tableur est bien joli, mais il serait quand même chouette de pouvoir récupérer les notes de notre élève de manière efficace, non ? Voire de modifier les valeurs du tableau en cas d'erreur. "
   ]
  },
  {
   "cell_type": "markdown",
   "metadata": {},
   "source": [
    "#### Accéder au début ou à la fin d'un `DataFrame` avec `.head()` et `.tail()`\n",
    "\n",
    "Parfois, lorsque votre `DataFrame` est un peu long, il serait utile d'essayer d'effectuer le traitement des données que vous avez laborieusement développé seulement sur les $n$ premières lignes de votre `DataFrame`, ou sur les $n$ dernières. Pour cela, vous pouvez employer les méthodes `.head()` et `.tail()`. Notez qu'elles renvoient bien des sous-parties du `DataFrame` initial, ce n'est pas juste une 'option d'affichage' !"
   ]
  },
  {
   "cell_type": "code",
   "execution_count": null,
   "metadata": {},
   "outputs": [],
   "source": [
    "import pandas as pd\n",
    "my_rheol = pd.read_csv('files/rheology.csv', decimal=',', sep=';')\n",
    "\n",
    "beginning = my_rheol.head(10)\n",
    "beginning"
   ]
  },
  {
   "cell_type": "markdown",
   "metadata": {},
   "source": [
    "#### Indexation standard (`[]`)\n",
    "\n",
    "Pour accéder à une colonne de notre tableau, on peut travailler comme avec les dictionnaires, ou comme avec des objets. Accédons aux prénoms de notre `pd.DataFrame` associé à notre inénarrable classe de TD :"
   ]
  },
  {
   "cell_type": "code",
   "execution_count": null,
   "metadata": {},
   "outputs": [],
   "source": [
    "import pandas as pd\n",
    "\n",
    "my_df = pd.DataFrame({'first_name':['Olivier', 'Serguey', 'Aika', 'Debasish', 'Muhammad', 'Lu' ],\n",
    "            'last_name': ['Margoulin', 'Prigogine', 'Tokogawa', 'Sarker', 'Ben Amar', 'Ai'],\n",
    "            'TD_1':[18,14,13,11,16,12],\n",
    "            'TD_2':[13,17,15,13,10,9]})\n",
    "\n",
    "my_df['first_name']   # Does work \n",
    "# my_df.first_name        # Would also have worked fine, unless column has a weird name, e.g. '1' "
   ]
  },
  {
   "cell_type": "markdown",
   "metadata": {},
   "source": [
    "Ce que renvoie notre commande `my_df['first_name']` ressemble à un tableau Numpy `np.ndarray` ou une liste, mais ce n'est pas tout à fait le cas, car à gauche vous voyez une liste d'indices. C'est parce que cet objet est en fait une `Series` Pandas, la version '1D' des `DataFrame`. On peut d'ailleurs les convertir très simplement en tableaux Numpy, par exemple ici en écrivant `np.array(my_df['first_name'])`. \n",
    "\n",
    "On peut assez facilement sélectionner deux ou plusieurs colonnes parmi toute notre série de données. Pour cela, on remplace notre nom de colonne (par exemple, `'first_name'`) par une liste (par ex., `['first_name', 'last_name']`) et le tour est joué ! "
   ]
  },
  {
   "cell_type": "code",
   "execution_count": null,
   "metadata": {},
   "outputs": [],
   "source": [
    "my_names = my_df[['first_name', 'last_name']]   # Don't forget the extra square brackets !\n",
    "print(my_names)"
   ]
  },
  {
   "cell_type": "markdown",
   "metadata": {},
   "source": [
    "Comme pour les `np.ndarray` et les listes, on peut effectuer des coupes au niveau des colonnes avec la syntaxe `[a:b:step]`, comme par exemple ici si je ne veux regarder qu'un étudiant sur deux (même si cela est assez curieux comme pratique). Cela est possible tant que les indices du `DataFrame` sont bien ordonnés de $0$ à $n$ et qu'on n'a pas donné _explicitement_ de nom à cette colonne des indices : "
   ]
  },
  {
   "cell_type": "code",
   "execution_count": null,
   "metadata": {},
   "outputs": [],
   "source": [
    "my_df[::2]"
   ]
  },
  {
   "cell_type": "markdown",
   "metadata": {},
   "source": [
    "La puissance des `pd.DataFrame` vient du fait que l'on peut __cumuler  facilement les sélections sur les lignes et les colonnes__. On peut tout à fait effectuer la chose suivante : "
   ]
  },
  {
   "cell_type": "code",
   "execution_count": null,
   "metadata": {},
   "outputs": [],
   "source": [
    "my_df['first_name'][::2]"
   ]
  },
  {
   "attachments": {},
   "cell_type": "markdown",
   "metadata": {},
   "source": [
    "#### Indexation booléenne \n",
    "\n",
    "Enfin, comme pour les [`np.ndarray`](./Application_A_Numpy.ipynb#Indexation-logique), on peut construire des _conditions_ sur construire des sur les valeurs prises dans les cases de notre tableau et effectuer des _coupes_ à partir de ces conditions. _Hein ?_ Voyez plutôt, si je veux récupérer la note de Serguey au TD1. Je vais commencer par trouver la _ligne_ correspondant à Serguey dans la liste des prénoms, puis, à partir de cette sélection de mon jeu de données initiale, faire une _nouvelle coupe_ permettant de retrouver les notes de TD1. Fort pratique ! "
   ]
  },
  {
   "cell_type": "code",
   "execution_count": null,
   "metadata": {},
   "outputs": [],
   "source": [
    "import pandas as pd\n",
    "\n",
    "my_df = pd.DataFrame({'first_name':['Olivier', 'Serguey', 'Aika', 'Debasish', 'Muhammad', 'Lu' ],\n",
    "            'last_name': ['Margoulin', 'Prigogine', 'Tokogawa', 'Sarker', 'Ben Amar', 'Ai'],\n",
    "            'TD_1':[11,14,13,15,12,15],\n",
    "            'TD_2':[13,17,15,14,16,9]})\n",
    "            \n",
    "is_serguey = my_df['first_name'] == 'Serguey'\n",
    "my_grade = my_df[is_serguey]['TD_1']\n",
    "my_grade"
   ]
  },
  {
   "cell_type": "markdown",
   "metadata": {},
   "source": [
    "Je peux même demander à appliquer _plusieurs_ conditions booléennes. Essayons par exemple de trouver un.e éventuel.le élève qui a moins que la moyenne aux deux TD, un élève en _difficulté_, même si ici les résultats sont plutôt bons. On utilisera alors [les opérateurs `~`, `&`, `|` et `^`](./Application_A_Numpy.ipynb#Combinaisons-de-conditions-sous-Numpy), et des fonctions Numpy, qui s'appliquent tout à fait correctement sur les colonnes de mon `pd.Dataframe`. "
   ]
  },
  {
   "cell_type": "code",
   "execution_count": null,
   "metadata": {},
   "outputs": [],
   "source": [
    "belowavg_td1 = my_df['TD_1'] < np.mean(my_df['TD_1'])       # Values below average of all values for TD1\n",
    "belowavg_td2 = my_df['TD_2'] < np.mean(my_df['TD_2'])       # Values below average of all values for TD2\n",
    "my_df[belowavg_td1 & belowavg_td2]"
   ]
  },
  {
   "cell_type": "markdown",
   "metadata": {},
   "source": [
    "__Exercice__ :\n",
    "\n",
    "* Pour le fichier de rhéologie `'files/rheology.csv'`, essayez de tracer avec [Matplotlib](./Application_B_Matplotlib.ipynb) la courbe contrainte ('Shearstress') vs. taux de déformation ('Shearrate') correspondant à l'étape 'Flow Curve Down Forward' (contenue dans la colonne 'Name')."
   ]
  },
  {
   "cell_type": "code",
   "execution_count": null,
   "metadata": {},
   "outputs": [],
   "source": [
    "# Pandas and Matplotlib ... Fuuuuuuussssiiiioooonnnn ! "
   ]
  },
  {
   "cell_type": "markdown",
   "metadata": {},
   "source": [
    "#### Encore plus de flexibilité : l'indexation avec `.loc[]`\n",
    "\n",
    "Pandas recommande d'utiliser cette fonction afin d'indexer les `pd.DataFrame`. Hormis le fait que cette 'fonction' soit suivie de crochets `[` et `]` et non de parenthèses `(` et `)`, celle-ci fonctionne d'une manière très similaire à l'indexation simple et booléenne. La syntaxe est en fait encore un peu plus flexible  et permet de combiner plusieurs conditions (par exemple, un nom de colonne et une sélection sur les lignes) entre les mêmes crochets, ce qui n'est pas possible avec l'indexation simple `[]`.\n"
   ]
  },
  {
   "cell_type": "code",
   "execution_count": null,
   "metadata": {},
   "outputs": [],
   "source": [
    "import pandas as pd\n",
    "\n",
    "my_df = pd.DataFrame({'first_name':['Olivier', 'Serguey', 'Aika', 'Debasish', 'Muhammad', 'Lu' ],\n",
    "            'last_name': ['Margoulin', 'Prigogine', 'Tokogawa', 'Sarker', 'Ben Amar', 'Ai'],\n",
    "            'TD_1':[11,14,13,15,12,15],\n",
    "            'TD_2':[13,17,15,14,16,9]})\n",
    "\n",
    "is_serguey = my_df['first_name'] == 'Serguey'\n",
    "my_grade_loc = my_df.loc[is_serguey, 'TD_1']    # Combining two conditions in bet\n",
    "# my_grade_old = my_df[is_serguey, 'TD_1']        # This does not work\n",
    "\n",
    "print(my_grade_loc)"
   ]
  },
  {
   "cell_type": "markdown",
   "metadata": {},
   "source": [
    "Nous verrons plus loin que les indexations avec `[]` et avec `.loc[]` fonctionnent _différemment lorsqu'on essaie de modifier des valeurs_ du `pd.DataFrame`.\n",
    "\n",
    "_Note_ : Vous pouvez très bien sélectionner plusieurs colonnes. Dans ce cas, il faut faire une `list` des colonnes à afficher, que ce soit pour la méthode en `.loc[]` ou pour l'indexation directe : "
   ]
  },
  {
   "cell_type": "code",
   "execution_count": null,
   "metadata": {},
   "outputs": [],
   "source": [
    "is_serguey = my_df['first_name'] == 'Serguey'\n",
    "columns = ['TD_1', 'TD_2']\n",
    "\n",
    "print('.loc[] result : ')\n",
    "serguey_grades_loc = my_df.loc[is_serguey, columns]\n",
    "print(serguey_grades_loc)\n",
    "\n",
    "print('Direct indexing result :')\n",
    "serguey_grades_dir = my_df[is_serguey][columns]\n",
    "print(serguey_grades_dir)"
   ]
  },
  {
   "cell_type": "markdown",
   "metadata": {},
   "source": [
    "#### Selectionner une ligne ou plusieurs lignes a la main avec `.iloc[]`\n",
    "\n",
    "Parfois, il vous sera nécessaire de sélectionner _à la main_ une ligne de votre tableau indépendamment de toute condition. Par défaut, les lignes des `DataFrames` sont indexées par des entiers dans une colonne 'sans nom', ce qui permet d'écrire :\n",
    "\n",
    "```\n",
    "    my_df[0]\n",
    "```\n",
    "pour demander à accéder à la première ligne. \n",
    "\n",
    "Mais parfois, vos DataFrames auront des indices qui ne sont pas dans l'ordre, des indices explicitement nommés _voire_ des indices qui ne sont pas des chiffres ! Voyons un exemple pour des lignes qui ne sont pas _indexées dans l'ordre_, et essayons naïvement de demander la première ligne du tableau à l'aide de l'indexation normale `[]` puis avec `.loc[]` : "
   ]
  },
  {
   "cell_type": "code",
   "execution_count": null,
   "metadata": {},
   "outputs": [],
   "source": [
    "import pandas as pd\n",
    "\n",
    "my_sneaky_df = pd.DataFrame({'first_name':['Olivier', 'Serguey', 'Aika', 'Debasish', 'Muhammad', 'Lu' ],\n",
    "            'last_name': ['Margoulin', 'Prigogine', 'Tokogawa', 'Sarker', 'Ben Amar', 'Ai'],\n",
    "            'TD_1':[11,14,13,15,12,15],\n",
    "            'TD_2':[13,17,15,14,16,9]}, index=[5,6,3,2,1,4])\n",
    "\n",
    "# my_sneaky_df[0]          # Fails miserably\n",
    "# my_sneaky_df.loc[0]        # Does not work either"
   ]
  },
  {
   "cell_type": "markdown",
   "metadata": {},
   "source": [
    "Aïe ! L'indexation normale `[]` renvoie carrément une erreur, tandis que la version avec `.loc[]` renvoie naturellement la ligne correspondant à l'indice 0, mais qui n'est plus la première ligne de mon tableau. \n",
    "\n",
    "C'est pour ce genre de cas que la fonction `.iloc[]` existe. On peut lui préciser un indice seul, mais également des _coupes_ du type `[start:stop:step]` et des listes d'indices. Commentez et dé-commentez les lignes suivantes pour examiner le fonctionnement de `.iloc[]`. "
   ]
  },
  {
   "cell_type": "code",
   "execution_count": null,
   "metadata": {},
   "outputs": [],
   "source": [
    "my_sneaky_df.iloc[0]\n",
    "# my_sneaky_df.iloc[::3] # Also works \n",
    "# my_sneaky_df.iloc[[0,2,4]] # Works too ! Yay !"
   ]
  },
  {
   "cell_type": "markdown",
   "metadata": {},
   "source": [
    "------------------------------"
   ]
  },
  {
   "cell_type": "markdown",
   "metadata": {},
   "source": [
    "### Modifier les DataFrames\n",
    "\n",
    "Dans cette section, nous allons maintenant voir comment _modifier_ des DataFrames, c'est à dire comment : \n",
    "\n",
    "* modifier des valeurs individuelles\n",
    "* rajouter ou supprimer des colonnes ou des lignes\n",
    "* assembler des DataFrames entre eux, notamment avec `pd.concat()`\n",
    "\n",
    "Pour bien comprendre comment fonctionnent certaines de ces opérations, je vous conseille de lire d'abord la section sur la [mutabilité](./Tutorial_2_ListsTuplesDicts.ipynb#Python-et-la-mutabilite) en Python. Mais ... normalement vous l'avez déjà fait :-) ."
   ]
  },
  {
   "cell_type": "markdown",
   "metadata": {},
   "source": [
    "#### Modifier des valeurs individuelles dans un DataFrame \n",
    "\n",
    "Reprenons notre exemple de classe de TD. Je me suis trompé sur la note d'Aika au TD2, et je voudrais la corriger rapidement. Rien de plus simple, non ? J'accède à la bonne ligne en cherchant `my_df['first_name'] == 'Aika'` et la bonne colonne en choisissant `TD2` et le tour est joué, non ?"
   ]
  },
  {
   "cell_type": "code",
   "execution_count": null,
   "metadata": {},
   "outputs": [],
   "source": [
    "import pandas as pd\n",
    "\n",
    "my_df = pd.DataFrame({'first_name':['Olivier', 'Serguey', 'Aika', 'Debasish', 'Muhammad', 'Lu' ],\n",
    "            'last_name': ['Margoulin', 'Prigogine', 'Tokogawa', 'Sarker', 'Ben Amar', 'Ai'],\n",
    "            'TD_1':[11,14,13,15,12,15],\n",
    "            'TD_2':[13,17,15,14,16,9]})\n",
    "\n",
    "aika_row = my_df['first_name'] == 'Aika'\n",
    "my_df[aika_row]['TD_1'] = 16\n",
    "my_df"
   ]
  },
  {
   "cell_type": "markdown",
   "metadata": {},
   "source": [
    "Horreur ! Cela ne fonctionne pas, notre `DataFrame` initial reste inchangé. Vous remarquereez que Pandas est assez sympathique tout de même, car il vous indique la marche à suivre pour que votre code fonctionne : __pour changer des valeurs d'un `DataFrame` indexé à la fois sur les lignes et les colonnes, il faut utiliser `.loc[]`__. La raison derrière tout ça est que bien souvent, Pandas effectue une _copie_ quand on demande à voir `my_df[my_row]`. On modifie alors la copie, et non l'objet original, d'où le fait qu'on ait l'impression que l'opération ne fonctionne pas. Essayons avec `.loc[]` :"
   ]
  },
  {
   "cell_type": "code",
   "execution_count": null,
   "metadata": {},
   "outputs": [],
   "source": [
    "my_df.loc[aika_row,  'TD_1'] = 16\n",
    "my_df"
   ]
  },
  {
   "cell_type": "markdown",
   "metadata": {},
   "source": [
    "On peut, bien entendu, changer de multiples valeurs d'un coup, par exemple plusieurs colonnes ou plusieurs lignes, si par exemple on avait _vraiment_ rempli au radar les notes de TD des élèves :-) "
   ]
  },
  {
   "cell_type": "code",
   "execution_count": null,
   "metadata": {},
   "outputs": [],
   "source": [
    "tds_columns = ['TD_1', 'TD_2']\n",
    "my_students = (my_df['first_name'] == 'Olivier') | (my_df['first_name'] == 'Lu') # Parentheses are important here, otherwise operator \"|\" applies first\n",
    "\n",
    "my_df.loc[aika_row, tds_columns] = [15,13]      \n",
    "my_df.loc[my_students, 'TD_1'] = [20,20]        # Just needs to be of a \"compatible\" shape\n",
    "print(my_df)"
   ]
  },
  {
   "cell_type": "markdown",
   "metadata": {},
   "source": [
    "Les notes d'Olivier, d'Aika et de Lu ont bien été modifiées dans le `DataFrame` original."
   ]
  },
  {
   "cell_type": "markdown",
   "metadata": {},
   "source": [
    "#### Ajouter des lignes et des colonnes \n",
    "\n",
    "Cette fois-ci, rassurez-vous, il n'y aura pas de pièges. Si vous voulez rajouter une nouvelle colonne `TD_3` à votre `DataFrame`, il suffit de la préciser. Vous pouvez choisir de spécifier toutes les valeurs, ou juste une seule pour tout le monde :"
   ]
  },
  {
   "cell_type": "code",
   "execution_count": null,
   "metadata": {},
   "outputs": [],
   "source": [
    "import pandas as pd\n",
    "\n",
    "my_df = pd.DataFrame({'first_name':['Olivier', 'Serguey', 'Aika', 'Debasish', 'Muhammad', 'Lu' ],\n",
    "            'last_name': ['Margoulin', 'Prigogine', 'Tokogawa', 'Sarker', 'Ben Amar', 'Ai'],\n",
    "            'TD_1':[11,14,13,15,12,15],\n",
    "            'TD_2':[13,17,15,14,16,9]})\n",
    "\n",
    "my_df['TD_3'] = [11,14,13,18,18,16]\n",
    "my_df['TD_4'] = 18                      # A very lazy grading scheme indeed \n",
    "my_df"
   ]
  },
  {
   "cell_type": "markdown",
   "metadata": {},
   "source": [
    "#### Supprimer des lignes ou des colonnes \n",
    "\n",
    "Si vous voulez faire des coupes sombres dans données, voire des coupes claires pour y ... voir plus clair, vous pouvez cette fois-ci utiliser la méthode `.drop()` qui est bien implémentée en Pandas. Essayons d'oublier les notes du TD 2, puis ensuite Serguey Prigogine car il éclipse un peu trop le reste de la classe avec ses trop bons résultats. Il faudra une fois de plus rajouter l'option `inplace=True` pour directement modifier le `DataFrame` original :"
   ]
  },
  {
   "cell_type": "code",
   "execution_count": null,
   "metadata": {},
   "outputs": [],
   "source": [
    "import pandas as pd\n",
    "\n",
    "my_df = pd.DataFrame({'first_name':['Olivier', 'Serguey', 'Aika', 'Debasish', 'Muhammad', 'Lu' ],\n",
    "            'last_name': ['Margoulin', 'Prigogine', 'Tokogawa', 'Sarker', 'Ben Amar', 'Ai'],\n",
    "            'TD_1':[11,14,13,15,12,15],\n",
    "            'TD_2':[13,17,15,14,16,9],\n",
    "            'TD_3': [11,12,10,11,13,12],\n",
    "            'TD_4': 14})\n",
    "\n",
    "\n",
    "my_df.drop('TD_2', axis='columns', inplace=True)    # We remove a column : specify axis='columns'\n",
    "my_df.drop(1, axis='index', inplace=True)           # We remove a row : specify axis='index'\n",
    "my_df"
   ]
  },
  {
   "cell_type": "markdown",
   "metadata": {},
   "source": [
    "Si votre `DataFrame` a été ré-indicé, par exemple avec 'ID', il faut quand même spécifier qu'on supprimer des lignes avec l'option `axis='index'`, mais il faut préciser les indices _réels_. Voyez ici l'exemple pour des étudiants numérotés de 22 à 27 : "
   ]
  },
  {
   "cell_type": "code",
   "execution_count": null,
   "metadata": {},
   "outputs": [],
   "source": [
    "my_df = pd.DataFrame({'first_name':['Olivier', 'Serguey', 'Aika', 'Debasish', 'Muhammad', 'Lu' ],\n",
    "            'last_name': ['Margoulin', 'Prigogine', 'Tokogawa', 'Sarker', 'Ben Amar', 'Ai'],\n",
    "            'TD_1':[11,14,13,15,12,15],\n",
    "            'TD_2':[13,17,15,14,16,9],\n",
    "            'ID':[22,23,24,25,26,27]})\n",
    "my_df.set_index('ID', inplace=True)\n",
    "my_df.drop([22,24], axis='index', inplace=True)\n",
    "my_df"
   ]
  },
  {
   "cell_type": "markdown",
   "metadata": {},
   "source": [
    "__Exercice__ : \n",
    "\n",
    "* Essayez de calculer la moyenne de chaque élève et rajoutez-la à la liste de leurs notes. Vous pouvez pour cela utiliser la méthode `.mean()` disponible pour les DataFrames. Essayez également de calculer la moyenne du groupe de TD pour chaque TD. \n",
    "* Les notes du TD 1 et du TD 2 ont été inversées. Trouvez un moyen de remédier au problème avec la méthode `.drop()`. Lisez ensuite la page d'aide associée à la méthode `.rename()` et essayez de trouver une solution plus _élégante_ au problème."
   ]
  },
  {
   "cell_type": "markdown",
   "metadata": {},
   "source": [
    "#### Trier des données dans un `pd.DataFrame` \n",
    "\n",
    "Les fonctions de tri des `DataFrame` sont assez puissantes et vous permettent de trier rapidement vos données selon un critère ou même une liste de critères (par ordre de priorité). \n",
    "* Pour trier simplement sur les indices (les 'lignes'), vous pouvez appeler `.sort_index()` avec pour argument `axis=index` (`axis=columns` vous permet de trier les colonnes, si cela vous intéresse ...). \n",
    "* Pour trier selon une ou plusieurs valeurs, on peut utiliser `.sort_values()`, qui prend un argument `by`. On peut lui passer un nom de colonne, par exemple, `last_name` pour trier par ordre alphabétique, ou une liste de noms de colonnes si on veut trier selon de multiples critères, par exemple `['last_name', 'first_name']` pour d'abord trier sur les noms de famille, puis ensuite sur les prénoms en cas d'égalité. Ces fonctions peuvent sans problème trier des chaînes de caractère et des nombres entre eux, mais va bien entendu peiner à dire si `'toto'` se situe avant 12 et après 13.\n",
    "\n",
    "Dans les deux cas, si vous voulez modifier le `DataFrame` (et non pas créer un nouvel objet), vous devrez spécifier l'option `inplace=True` lors de l'appel à la méthode. Si vous voulez trier les valeurs dans l'ordre décroissant, vous pouvez également rajouter l'option `ascending=False`."
   ]
  },
  {
   "cell_type": "code",
   "execution_count": null,
   "metadata": {},
   "outputs": [],
   "source": [
    "import pandas as pd\n",
    "\n",
    "my_df = pd.DataFrame({'first_name':['Olivier', 'Serguey', 'Aika', 'Debasish', 'Muhammad', 'Lu', 'Françine' ],\n",
    "            'last_name': ['Margoulin', 'Prigogine', 'Tokogawa', 'Sarker', 'Ben Amar', 'Ai', 'Margoulin'],           # Françine and Olivier are unrelated, so they say ...\n",
    "            'TD_1':[11,14,13,15,12,15,14],\n",
    "            'TD_2':[13,17,15,14,16,9,12],\n",
    "            'TD_3': [11,12,10,12,13,12,18]})\n",
    "\n",
    "print('Sort by last name only')\n",
    "print(my_df.sort_values(by='last_name'))             \n",
    "\n",
    "print('Sort by last then first name')\n",
    "print(my_df.sort_values(by=['last_name', 'TD_3']))   # Last   "
   ]
  },
  {
   "cell_type": "markdown",
   "metadata": {},
   "source": [
    "__Exercice__ : \n",
    "\n",
    "* Triez les élèves par notes de TD, en mettant la priorité sur le TD 1 puis le TD 3 et enfin le TD 2.\n",
    "* Essayez de créer _automatiquement_ le rang de chaque élève (son classement général) à partir de ses notes de TD. Puis utilisez ce rang pour indexer votre `DataFrame`. __Esprit prépa__ !!!!!"
   ]
  },
  {
   "cell_type": "markdown",
   "metadata": {},
   "source": [
    "----------------------\n",
    "\n",
    "### Operations de groupe\n",
    "\n",
    "Les `DataFrames` Pandas expriment toute leur puissance avec les opérations de groupe. Mais ... c'est quoi ?"
   ]
  },
  {
   "cell_type": "markdown",
   "metadata": {},
   "source": [
    "#### La méthode  `groupby()`\n",
    "\n",
    "Imaginons que notre professeur (toujours aux intentions douteuses) officie dans deux classes distinctes, la Terminale A et la Terminale B (abrégées en TA et TB). Il ou elle souhaite obtenir des statistiques sur ses classes, mais n'a pas envie de s'embêter à mettre ses données dans des fichiers séparés."
   ]
  },
  {
   "cell_type": "code",
   "execution_count": null,
   "metadata": {},
   "outputs": [],
   "source": [
    "import pandas as pd\n",
    "\n",
    "my_df = pd.DataFrame({'first_name':['Olivier', 'Serguey', 'Aika', 'Debasish', 'Muhammad', 'Lu', 'Francine', 'Jérémie', 'Marco', 'Jorrit', 'Oyeniyi', 'Elisabeth', 'Apichatpong'],\n",
    "            'last_name': ['Margoulin', 'Prigogine', 'Tokogawa', 'Sarker', 'Ben Amar', 'Ai', 'Margoulin', 'Fassolle', 'Leonarduzzi', 'Peeters', 'Oyewunmi', 'Battenberg', 'Weerasethakul'],           # Françine and Olivier are unrelated, so they say ...\n",
    "            'TD_1':[11,14,13,15,12,15,14,15,9,11,13,11,12],\n",
    "            'TD_2':[13,17,15,14,16,9,12,9,11,13,9,12,11],\n",
    "            'TD_3': [11,12,10,12,13,12,18,11,12,10,11,13,12],\n",
    "            'class': ['TA', 'TA', 'TB', 'TA', 'TB', 'TB', 'TA', 'TB', 'TA', 'TB', 'TB', 'TA', 'TA']})"
   ]
  },
  {
   "cell_type": "markdown",
   "metadata": {},
   "source": [
    "Comment effectuer une moyenne (et éventuellement une médiane, un écart-type, etc.) sans s'embêter ? Le `groupby()` va venir nous aider !"
   ]
  },
  {
   "cell_type": "code",
   "execution_count": null,
   "metadata": {},
   "outputs": [],
   "source": [
    "grouper = my_df.groupby(by='class')\n",
    "grouper"
   ]
  },
  {
   "cell_type": "markdown",
   "metadata": {},
   "source": [
    "> Euh ... oui, merci, cela ne m'aide pas trop en fait. \n",
    "\n",
    "Attendez un petit moment ! On va pouvoir appliquer des méthodes à notre ami `grouper`:\n",
    "\n",
    "- `.mean()`, la moyenne\n",
    "- `.std()`, la déviation standard\n",
    "- `.first()`, le premier élément \n",
    "- `.last()`, le dernier élément\n",
    "- `.cumsum()`, la somme cumulée\n",
    "- `.median()`, la médiane\n",
    "- `.min()`, `.max()`, ...\n",
    "\n",
    "On obtient alors un `pd.Series()` qui a pour index les deux classes `TA` et `TB`: "
   ]
  },
  {
   "cell_type": "code",
   "execution_count": null,
   "metadata": {},
   "outputs": [],
   "source": [
    "grouper['TD_1'].mean()"
   ]
  },
  {
   "cell_type": "markdown",
   "metadata": {},
   "source": [
    "Notez qu'on peut effectuer des opérations sur plusieurs colonnes, et on se retrouve alors avec un `pd.DataFrame()`, une fois de plus avec les indices `TA` et `TB` :"
   ]
  },
  {
   "cell_type": "code",
   "execution_count": null,
   "metadata": {},
   "outputs": [],
   "source": [
    "grouper[['TD_1', 'TD_2']].mean()"
   ]
  },
  {
   "cell_type": "markdown",
   "metadata": {},
   "source": [
    "On peut également effectuer le groupage sur toutes les colonnes, mais dans ce cas __attention__, il faut que la méthode d'agrégation, c'est à dire le `.mean()`, le `.first()`, __soit compatible avec toutes les colonnes du `DataFrame` ! "
   ]
  },
  {
   "cell_type": "code",
   "execution_count": null,
   "metadata": {},
   "outputs": [],
   "source": [
    "grouper.first() # Works\n",
    "# grouper.mean() # Breaks down"
   ]
  },
  {
   "cell_type": "markdown",
   "metadata": {},
   "source": [
    "#### Agrégateurs différents par colonne : la méthode `.agg()`\n",
    "\n",
    "Encore plus puissant, on peut également décider de faire des statistiques différentes sur les différentes colonnes lorsqu'on agrège. On peut même demander _deux agrégations différentes pour une même colonne_. Je vous montre ci-dessous comment faire pour renvoyer le prénom du premier élève de la classe, la moyenne du TD1 et la déviation standard du TD1 et du TD2. On commence à observer la puissance des `DataFrame` ! Dans ce cas, vous pouvez passer un dictionnaire à la méthode `.agg()`, ou une liste de `kwargs` (arguments à clé) avec une syntaxe un peu bizarre que je détaille ci-dessous."
   ]
  },
  {
   "cell_type": "code",
   "execution_count": null,
   "metadata": {},
   "outputs": [],
   "source": [
    "aggregated = grouper.agg(first_student=('first_name', 'first'), # New column name = (old column name, operation)\n",
    "            TD_1_avg=('TD_1', 'mean'),\n",
    "            TD_1_std=('TD_1', 'std'),\n",
    "            TD_2_std=('TD_2', 'std')) \n",
    "\n",
    "aggregated"
   ]
  },
  {
   "cell_type": "markdown",
   "metadata": {},
   "source": [
    "Vous avez noté que cette fois-ci, le nom des opérations est une chaîne de caractères. Si la fonction existe directement dans Python (par exemple, `sum`), vous pouvez également directement indiquer celle-ci à la place d'une chaîne de caractères. Voire ... vous pouvez lui donner une fonction que vous auriez codée, ou une fonction `lambda` !\n",
    "\n",
    "Vous pouvez ensuite ré-insérer les valeurs de votre moyenne dans le `DataFrame` original ! Pour cela, vous devrez faire en sorte que votre `DataFrame` original et celui agrégé aient les mêmes indices pour les lignes. Vous pouvez alors utiliser la méthode `set.index()` du `DataFrame` original pour arriver à vos fins. Voyons comment cela se présente : "
   ]
  },
  {
   "cell_type": "code",
   "execution_count": null,
   "metadata": {},
   "outputs": [],
   "source": [
    "my_df = my_df.set_index('class')\n",
    "my_df['TD_1_avg'] = aggregated['TD_1_avg']\n",
    "my_df"
   ]
  },
  {
   "cell_type": "markdown",
   "metadata": {},
   "source": [
    "**Exercices**\n",
    "\n",
    "La colonne `Shearstrain` du fichier de rhéologie suivant ne se réinitialise pas à chaque changement de palier (`step`). La colonne `Name` indique le nom de chaque palier (`step`) et est unique à chaque palier. \n",
    "\n",
    "1. Tentez de créer une colonne `step` correspondant au numéro de palier dans la séquence. (__Indice__ : si vous ne voulez pas trier vos colonnes lorsque vous effectuez un `.groupby()`, rajoutez-lui l'argument supplémentaire `sort=False`)\n",
    "\n",
    "2. Essayez de modifier `Shearstrain` pour que celle-ci soit réinitialisée à 0 à chaque palier, ou créez une nouvelle colonne."
   ]
  },
  {
   "cell_type": "code",
   "execution_count": null,
   "metadata": {},
   "outputs": [],
   "source": [
    "my_rheol = pd.read_csv('files/rheology.csv', decimal=',', sep=';')\n",
    "\n",
    "# You can doooooooooo iiiiiiiiittttttttt mmmmmmyyyyyyy frrrrriiiieeeennndddd "
   ]
  },
  {
   "cell_type": "markdown",
   "metadata": {},
   "source": [
    "### Fusionner deux DataFrame avec merge, join et concat\n",
    "\n",
    "#### Merge : jointure via nom de colonne \n",
    "\n",
    "Imaginons maintenant que notre cher collègue, professeur de Tagalog, est également fanatique de Pandas. Chacun d'entre vous a les mêmes notations, mais pas forcément les mêmes élèves (bien que vous ayez des élèves en commun) ... et vous avez quand même deux `DataFrame` différents correspondant aux notes des élèves dans les deux matières (Physique et Tagalog). Les étudiants sont identifiés par un `id` unique : "
   ]
  },
  {
   "cell_type": "code",
   "execution_count": 120,
   "metadata": {},
   "outputs": [
    {
     "data": {
      "text/html": [
       "<div>\n",
       "<style scoped>\n",
       "    .dataframe tbody tr th:only-of-type {\n",
       "        vertical-align: middle;\n",
       "    }\n",
       "\n",
       "    .dataframe tbody tr th {\n",
       "        vertical-align: top;\n",
       "    }\n",
       "\n",
       "    .dataframe thead th {\n",
       "        text-align: right;\n",
       "    }\n",
       "</style>\n",
       "<table border=\"1\" class=\"dataframe\">\n",
       "  <thead>\n",
       "    <tr style=\"text-align: right;\">\n",
       "      <th></th>\n",
       "      <th>id</th>\n",
       "      <th>first_name</th>\n",
       "      <th>last_name</th>\n",
       "      <th>TD_1</th>\n",
       "      <th>TD_2</th>\n",
       "      <th>TD_3</th>\n",
       "      <th>class</th>\n",
       "    </tr>\n",
       "  </thead>\n",
       "  <tbody>\n",
       "    <tr>\n",
       "      <th>0</th>\n",
       "      <td>720</td>\n",
       "      <td>Olivier</td>\n",
       "      <td>Margoulin</td>\n",
       "      <td>11</td>\n",
       "      <td>13</td>\n",
       "      <td>11</td>\n",
       "      <td>TA</td>\n",
       "    </tr>\n",
       "    <tr>\n",
       "      <th>1</th>\n",
       "      <td>365</td>\n",
       "      <td>Serguey</td>\n",
       "      <td>Prigogine</td>\n",
       "      <td>14</td>\n",
       "      <td>17</td>\n",
       "      <td>12</td>\n",
       "      <td>TA</td>\n",
       "    </tr>\n",
       "    <tr>\n",
       "      <th>2</th>\n",
       "      <td>256</td>\n",
       "      <td>Aika</td>\n",
       "      <td>Tokogawa</td>\n",
       "      <td>13</td>\n",
       "      <td>15</td>\n",
       "      <td>10</td>\n",
       "      <td>TB</td>\n",
       "    </tr>\n",
       "    <tr>\n",
       "      <th>3</th>\n",
       "      <td>130</td>\n",
       "      <td>Debasish</td>\n",
       "      <td>Sarker</td>\n",
       "      <td>15</td>\n",
       "      <td>14</td>\n",
       "      <td>12</td>\n",
       "      <td>TA</td>\n",
       "    </tr>\n",
       "    <tr>\n",
       "      <th>4</th>\n",
       "      <td>899</td>\n",
       "      <td>Muhammad</td>\n",
       "      <td>Ben Amar</td>\n",
       "      <td>12</td>\n",
       "      <td>16</td>\n",
       "      <td>13</td>\n",
       "      <td>TB</td>\n",
       "    </tr>\n",
       "  </tbody>\n",
       "</table>\n",
       "</div>"
      ],
      "text/plain": [
       "    id first_name  last_name  TD_1  TD_2  TD_3 class\n",
       "0  720    Olivier  Margoulin    11    13    11    TA\n",
       "1  365    Serguey  Prigogine    14    17    12    TA\n",
       "2  256       Aika   Tokogawa    13    15    10    TB\n",
       "3  130   Debasish     Sarker    15    14    12    TA\n",
       "4  899   Muhammad   Ben Amar    12    16    13    TB"
      ]
     },
     "execution_count": 120,
     "metadata": {},
     "output_type": "execute_result"
    }
   ],
   "source": [
    "import pandas as pd\n",
    "\n",
    "df_phys = pd.DataFrame({'id': [720,365,256,130,899,477],\n",
    "            'first_name':['Olivier', 'Serguey', 'Aika', 'Debasish', 'Muhammad', 'Lu'],\n",
    "            'last_name': ['Margoulin', 'Prigogine', 'Tokogawa', 'Sarker', 'Ben Amar', 'Ai'],           # Françine and Olivier are unrelated, so they say ...\n",
    "            'TD_1':[11,14,13,15,12,15],\n",
    "            'TD_2':[13,17,15,14,16,9],\n",
    "            'TD_3': [11,12,10,12,13,12],\n",
    "            'class': ['TA', 'TA', 'TB', 'TA', 'TB', 'TB']})\n",
    "\n",
    "df_tglo = pd.DataFrame({'id': [130,365,720,131,988,753],\n",
    "                        'first_name':['Debasish', 'Serguey', 'Olivier', 'Matilda', 'Harry', 'Inigo'],\n",
    "                        'last_name':['Sarker', 'Prigogine', 'Margoulin', 'May', 'Potter', 'Montoya'],\n",
    "                        'Partiel_1':[14,10,9,16,8,11],\n",
    "                        'Partiel_2':[9,11,18,12,10,5],\n",
    "                        'class':['TA', 'TA', 'TA', 'TC', 'TC', 'TC']})\n",
    "\n",
    "df_phys.head()"
   ]
  },
  {
   "cell_type": "code",
   "execution_count": 121,
   "metadata": {},
   "outputs": [
    {
     "data": {
      "text/html": [
       "<div>\n",
       "<style scoped>\n",
       "    .dataframe tbody tr th:only-of-type {\n",
       "        vertical-align: middle;\n",
       "    }\n",
       "\n",
       "    .dataframe tbody tr th {\n",
       "        vertical-align: top;\n",
       "    }\n",
       "\n",
       "    .dataframe thead th {\n",
       "        text-align: right;\n",
       "    }\n",
       "</style>\n",
       "<table border=\"1\" class=\"dataframe\">\n",
       "  <thead>\n",
       "    <tr style=\"text-align: right;\">\n",
       "      <th></th>\n",
       "      <th>id</th>\n",
       "      <th>first_name</th>\n",
       "      <th>last_name</th>\n",
       "      <th>Partiel_1</th>\n",
       "      <th>Partiel_2</th>\n",
       "      <th>class</th>\n",
       "    </tr>\n",
       "  </thead>\n",
       "  <tbody>\n",
       "    <tr>\n",
       "      <th>0</th>\n",
       "      <td>130</td>\n",
       "      <td>Debasish</td>\n",
       "      <td>Sarker</td>\n",
       "      <td>14</td>\n",
       "      <td>9</td>\n",
       "      <td>TA</td>\n",
       "    </tr>\n",
       "    <tr>\n",
       "      <th>1</th>\n",
       "      <td>365</td>\n",
       "      <td>Serguey</td>\n",
       "      <td>Prigogine</td>\n",
       "      <td>10</td>\n",
       "      <td>11</td>\n",
       "      <td>TA</td>\n",
       "    </tr>\n",
       "    <tr>\n",
       "      <th>2</th>\n",
       "      <td>720</td>\n",
       "      <td>Olivier</td>\n",
       "      <td>Margoulin</td>\n",
       "      <td>9</td>\n",
       "      <td>18</td>\n",
       "      <td>TA</td>\n",
       "    </tr>\n",
       "    <tr>\n",
       "      <th>3</th>\n",
       "      <td>131</td>\n",
       "      <td>Matilda</td>\n",
       "      <td>May</td>\n",
       "      <td>16</td>\n",
       "      <td>12</td>\n",
       "      <td>TC</td>\n",
       "    </tr>\n",
       "    <tr>\n",
       "      <th>4</th>\n",
       "      <td>988</td>\n",
       "      <td>Harry</td>\n",
       "      <td>Potter</td>\n",
       "      <td>8</td>\n",
       "      <td>10</td>\n",
       "      <td>TC</td>\n",
       "    </tr>\n",
       "  </tbody>\n",
       "</table>\n",
       "</div>"
      ],
      "text/plain": [
       "    id first_name  last_name  Partiel_1  Partiel_2 class\n",
       "0  130   Debasish     Sarker         14          9    TA\n",
       "1  365    Serguey  Prigogine         10         11    TA\n",
       "2  720    Olivier  Margoulin          9         18    TA\n",
       "3  131    Matilda        May         16         12    TC\n",
       "4  988      Harry     Potter          8         10    TC"
      ]
     },
     "execution_count": 121,
     "metadata": {},
     "output_type": "execute_result"
    }
   ],
   "source": [
    "df_tglo.head()"
   ]
  },
  {
   "cell_type": "markdown",
   "metadata": {},
   "source": [
    "On souhaiterait obtenir la moyenne _générale_ des étudiants à partir des notes de ces deux matières. Comment faire ? Eh bien, la méthode `.merge()` des `DataFrame` peut s'en charger ! Cette fonction se comporte un peu comme les [`JOIN` en SQL](https://en.wikipedia.org/wiki/Join_(SQL)) et vont effecuter une _jointure_, qu'on va pouvoir ici effectuer à partir des identifiants uniques. Voyons un peu le résultat : "
   ]
  },
  {
   "cell_type": "code",
   "execution_count": 122,
   "metadata": {},
   "outputs": [
    {
     "data": {
      "text/html": [
       "<div>\n",
       "<style scoped>\n",
       "    .dataframe tbody tr th:only-of-type {\n",
       "        vertical-align: middle;\n",
       "    }\n",
       "\n",
       "    .dataframe tbody tr th {\n",
       "        vertical-align: top;\n",
       "    }\n",
       "\n",
       "    .dataframe thead th {\n",
       "        text-align: right;\n",
       "    }\n",
       "</style>\n",
       "<table border=\"1\" class=\"dataframe\">\n",
       "  <thead>\n",
       "    <tr style=\"text-align: right;\">\n",
       "      <th></th>\n",
       "      <th>id</th>\n",
       "      <th>first_name_x</th>\n",
       "      <th>last_name_x</th>\n",
       "      <th>TD_1</th>\n",
       "      <th>TD_2</th>\n",
       "      <th>TD_3</th>\n",
       "      <th>class_x</th>\n",
       "      <th>first_name_y</th>\n",
       "      <th>last_name_y</th>\n",
       "      <th>Partiel_1</th>\n",
       "      <th>Partiel_2</th>\n",
       "      <th>class_y</th>\n",
       "    </tr>\n",
       "  </thead>\n",
       "  <tbody>\n",
       "    <tr>\n",
       "      <th>0</th>\n",
       "      <td>720</td>\n",
       "      <td>Olivier</td>\n",
       "      <td>Margoulin</td>\n",
       "      <td>11</td>\n",
       "      <td>13</td>\n",
       "      <td>11</td>\n",
       "      <td>TA</td>\n",
       "      <td>Olivier</td>\n",
       "      <td>Margoulin</td>\n",
       "      <td>9</td>\n",
       "      <td>18</td>\n",
       "      <td>TA</td>\n",
       "    </tr>\n",
       "    <tr>\n",
       "      <th>1</th>\n",
       "      <td>365</td>\n",
       "      <td>Serguey</td>\n",
       "      <td>Prigogine</td>\n",
       "      <td>14</td>\n",
       "      <td>17</td>\n",
       "      <td>12</td>\n",
       "      <td>TA</td>\n",
       "      <td>Serguey</td>\n",
       "      <td>Prigogine</td>\n",
       "      <td>10</td>\n",
       "      <td>11</td>\n",
       "      <td>TA</td>\n",
       "    </tr>\n",
       "    <tr>\n",
       "      <th>2</th>\n",
       "      <td>130</td>\n",
       "      <td>Debasish</td>\n",
       "      <td>Sarker</td>\n",
       "      <td>15</td>\n",
       "      <td>14</td>\n",
       "      <td>12</td>\n",
       "      <td>TA</td>\n",
       "      <td>Debasish</td>\n",
       "      <td>Sarker</td>\n",
       "      <td>14</td>\n",
       "      <td>9</td>\n",
       "      <td>TA</td>\n",
       "    </tr>\n",
       "  </tbody>\n",
       "</table>\n",
       "</div>"
      ],
      "text/plain": [
       "    id first_name_x last_name_x  TD_1  TD_2  TD_3 class_x first_name_y  \\\n",
       "0  720      Olivier   Margoulin    11    13    11      TA      Olivier   \n",
       "1  365      Serguey   Prigogine    14    17    12      TA      Serguey   \n",
       "2  130     Debasish      Sarker    15    14    12      TA     Debasish   \n",
       "\n",
       "  last_name_y  Partiel_1  Partiel_2 class_y  \n",
       "0   Margoulin          9         18      TA  \n",
       "1   Prigogine         10         11      TA  \n",
       "2      Sarker         14          9      TA  "
      ]
     },
     "execution_count": 122,
     "metadata": {},
     "output_type": "execute_result"
    }
   ],
   "source": [
    "df_phys.merge(df_tglo, on='id')     # df_1.merge(df_2, on=<column on which to join>)"
   ]
  },
  {
   "cell_type": "markdown",
   "metadata": {},
   "source": [
    "Bon ! On voit qu'il y a des choses positives, notamment on observe que sur une même ligne, on a désormais les notes des deux matières pour certains étudiants. C'est ce qu'on souhaitait voir. On observe d'autres choses, moins bonnes : \n",
    "\n",
    "1. **Certains élèves n'apparaissent pas du tout !** C'est lié en fait à la méthode de jointure qu'on a utilisée. Par défaut, on ne va chercher que les `id` présents dans les __deux__ tableaux. On peut changer ce fonctionnement en modifiant l'argument `how` (par défaut `inner`) : `left` va conserver les clés du tableau de 'gauche' (celui dont on appelle la méthode `.merge()`, et  `outer` garde toutes les clés.\n",
    "\n",
    "2. **Les noms des élèves et leur classe apparaissent deux fois, dans `first_name_x`, ... et dans `first_name_y` ... ! Ces `_x` et `_y` sont un peu disgracieux**, mais on peut rapidement s'en débarrasser de deux manières : \n",
    "   * On peut décider de faire un `merge` sur plusieurs colonnes : `on=['id', 'first_name', 'last_name']`\n",
    "   * On peut décider d'utiliser l'argument `suffix=(None, '_to_remove')` pour que le tableau de gauche garde ses noms originaux et que l'autre ait un nom explicite qu'on peut retirer ensuite.\n",
    "  \n",
    "Voyons donc ce que cela donne : "
   ]
  },
  {
   "cell_type": "code",
   "execution_count": null,
   "metadata": {},
   "outputs": [],
   "source": [
    "# Left merge \n",
    "df_phys.merge(df_tglo, on='id', how='left')"
   ]
  },
  {
   "cell_type": "code",
   "execution_count": null,
   "metadata": {},
   "outputs": [],
   "source": [
    "# Merge on multiple keys\n",
    "df_phys.merge(df_tglo, on=['id', 'first_name', 'last_name', 'class'], how='outer')"
   ]
  },
  {
   "cell_type": "code",
   "execution_count": null,
   "metadata": {},
   "outputs": [],
   "source": [
    "# Merge on keys with custom suffixes then delete \n",
    "merged = df_phys.merge(df_tglo, how='right', on='id', suffixes=(None, '_toremove'))\n",
    "to_remove = [col for col in merged.columns if 'toremove' in col]\n",
    "merged.drop(columns=to_remove)"
   ]
  },
  {
   "cell_type": "markdown",
   "metadata": {},
   "source": [
    "__Remarque__ : les noms de colonne n'ont pas besoin d'être identiques entre le tableau de gauche et celui de droite ! \n",
    "Dans ce cas, vous devrez simplement spécifier un `left_on=` et un `right_on=` distincts, et le tour est joué."
   ]
  },
  {
   "cell_type": "markdown",
   "metadata": {},
   "source": [
    "#### Join : jointure via les indices\n",
    "\n",
    "La méthode `.join()`, elle, va effectuer _par défaut_ une jointure _via_ l'`Index` des deux `DataFrame`. Dans notre exemple, on va devoir donc effectuer un `.set_index()` avant d'effectuer le `.join()`, mais dans la vraie vie vous aurez peut-être des `DataFrame` avec les bons indices déjà mis en place !"
   ]
  },
  {
   "cell_type": "code",
   "execution_count": 124,
   "metadata": {},
   "outputs": [
    {
     "data": {
      "text/html": [
       "<div>\n",
       "<style scoped>\n",
       "    .dataframe tbody tr th:only-of-type {\n",
       "        vertical-align: middle;\n",
       "    }\n",
       "\n",
       "    .dataframe tbody tr th {\n",
       "        vertical-align: top;\n",
       "    }\n",
       "\n",
       "    .dataframe thead th {\n",
       "        text-align: right;\n",
       "    }\n",
       "</style>\n",
       "<table border=\"1\" class=\"dataframe\">\n",
       "  <thead>\n",
       "    <tr style=\"text-align: right;\">\n",
       "      <th></th>\n",
       "      <th>first_name</th>\n",
       "      <th>last_name</th>\n",
       "      <th>TD_1</th>\n",
       "      <th>TD_2</th>\n",
       "      <th>TD_3</th>\n",
       "      <th>class</th>\n",
       "      <th>first_name_toto</th>\n",
       "      <th>last_name_toto</th>\n",
       "      <th>Partiel_1</th>\n",
       "      <th>Partiel_2</th>\n",
       "      <th>class_toto</th>\n",
       "    </tr>\n",
       "    <tr>\n",
       "      <th>id</th>\n",
       "      <th></th>\n",
       "      <th></th>\n",
       "      <th></th>\n",
       "      <th></th>\n",
       "      <th></th>\n",
       "      <th></th>\n",
       "      <th></th>\n",
       "      <th></th>\n",
       "      <th></th>\n",
       "      <th></th>\n",
       "      <th></th>\n",
       "    </tr>\n",
       "  </thead>\n",
       "  <tbody>\n",
       "    <tr>\n",
       "      <th>720</th>\n",
       "      <td>Olivier</td>\n",
       "      <td>Margoulin</td>\n",
       "      <td>11</td>\n",
       "      <td>13</td>\n",
       "      <td>11</td>\n",
       "      <td>TA</td>\n",
       "      <td>Olivier</td>\n",
       "      <td>Margoulin</td>\n",
       "      <td>9.0</td>\n",
       "      <td>18.0</td>\n",
       "      <td>TA</td>\n",
       "    </tr>\n",
       "    <tr>\n",
       "      <th>365</th>\n",
       "      <td>Serguey</td>\n",
       "      <td>Prigogine</td>\n",
       "      <td>14</td>\n",
       "      <td>17</td>\n",
       "      <td>12</td>\n",
       "      <td>TA</td>\n",
       "      <td>Serguey</td>\n",
       "      <td>Prigogine</td>\n",
       "      <td>10.0</td>\n",
       "      <td>11.0</td>\n",
       "      <td>TA</td>\n",
       "    </tr>\n",
       "    <tr>\n",
       "      <th>256</th>\n",
       "      <td>Aika</td>\n",
       "      <td>Tokogawa</td>\n",
       "      <td>13</td>\n",
       "      <td>15</td>\n",
       "      <td>10</td>\n",
       "      <td>TB</td>\n",
       "      <td>NaN</td>\n",
       "      <td>NaN</td>\n",
       "      <td>NaN</td>\n",
       "      <td>NaN</td>\n",
       "      <td>NaN</td>\n",
       "    </tr>\n",
       "    <tr>\n",
       "      <th>130</th>\n",
       "      <td>Debasish</td>\n",
       "      <td>Sarker</td>\n",
       "      <td>15</td>\n",
       "      <td>14</td>\n",
       "      <td>12</td>\n",
       "      <td>TA</td>\n",
       "      <td>Debasish</td>\n",
       "      <td>Sarker</td>\n",
       "      <td>14.0</td>\n",
       "      <td>9.0</td>\n",
       "      <td>TA</td>\n",
       "    </tr>\n",
       "    <tr>\n",
       "      <th>899</th>\n",
       "      <td>Muhammad</td>\n",
       "      <td>Ben Amar</td>\n",
       "      <td>12</td>\n",
       "      <td>16</td>\n",
       "      <td>13</td>\n",
       "      <td>TB</td>\n",
       "      <td>NaN</td>\n",
       "      <td>NaN</td>\n",
       "      <td>NaN</td>\n",
       "      <td>NaN</td>\n",
       "      <td>NaN</td>\n",
       "    </tr>\n",
       "    <tr>\n",
       "      <th>477</th>\n",
       "      <td>Lu</td>\n",
       "      <td>Ai</td>\n",
       "      <td>15</td>\n",
       "      <td>9</td>\n",
       "      <td>12</td>\n",
       "      <td>TB</td>\n",
       "      <td>NaN</td>\n",
       "      <td>NaN</td>\n",
       "      <td>NaN</td>\n",
       "      <td>NaN</td>\n",
       "      <td>NaN</td>\n",
       "    </tr>\n",
       "  </tbody>\n",
       "</table>\n",
       "</div>"
      ],
      "text/plain": [
       "    first_name  last_name  TD_1  TD_2  TD_3 class first_name_toto  \\\n",
       "id                                                                  \n",
       "720    Olivier  Margoulin    11    13    11    TA         Olivier   \n",
       "365    Serguey  Prigogine    14    17    12    TA         Serguey   \n",
       "256       Aika   Tokogawa    13    15    10    TB             NaN   \n",
       "130   Debasish     Sarker    15    14    12    TA        Debasish   \n",
       "899   Muhammad   Ben Amar    12    16    13    TB             NaN   \n",
       "477         Lu         Ai    15     9    12    TB             NaN   \n",
       "\n",
       "    last_name_toto  Partiel_1  Partiel_2 class_toto  \n",
       "id                                                   \n",
       "720      Margoulin        9.0       18.0         TA  \n",
       "365      Prigogine       10.0       11.0         TA  \n",
       "256            NaN        NaN        NaN        NaN  \n",
       "130         Sarker       14.0        9.0         TA  \n",
       "899            NaN        NaN        NaN        NaN  \n",
       "477            NaN        NaN        NaN        NaN  "
      ]
     },
     "execution_count": 124,
     "metadata": {},
     "output_type": "execute_result"
    }
   ],
   "source": [
    "ind_phys = df_phys.set_index('id')\n",
    "ind_tglo = df_tglo.set_index('id')\n",
    "\n",
    "ind_phys.join(ind_tglo, rsuffix='_toto')"
   ]
  },
  {
   "cell_type": "markdown",
   "metadata": {},
   "source": [
    "#### Concat : concaténer les `DataFrame` \n",
    "\n",
    "Dernier cas de figure : j'ai des données de 2023 et de 2024 qui ont les mêmes noms de colonne, et j'aimerais compiler ces données et obtenir un grand `DataFrame` pour toutes les années (éventuellement pour regarder l'évolution des notes moyennes au fil des années ...). Comment faire ? Eh bien, avec un bon petit `pd.concat()` des familles. Notez que cette fois-ci, c'est une fonction de `Pandas`, pas une méthode d'un `DataFrame`. On doit donc donner une `list` (ou un `tuple`) de `DataFrame` à manger à `pd.concat()`, et vous n'êtes pas du tout limités à deux :"
   ]
  },
  {
   "cell_type": "code",
   "execution_count": 130,
   "metadata": {},
   "outputs": [
    {
     "data": {
      "text/html": [
       "<div>\n",
       "<style scoped>\n",
       "    .dataframe tbody tr th:only-of-type {\n",
       "        vertical-align: middle;\n",
       "    }\n",
       "\n",
       "    .dataframe tbody tr th {\n",
       "        vertical-align: top;\n",
       "    }\n",
       "\n",
       "    .dataframe thead th {\n",
       "        text-align: right;\n",
       "    }\n",
       "</style>\n",
       "<table border=\"1\" class=\"dataframe\">\n",
       "  <thead>\n",
       "    <tr style=\"text-align: right;\">\n",
       "      <th></th>\n",
       "      <th>id</th>\n",
       "      <th>first_name</th>\n",
       "      <th>last_name</th>\n",
       "      <th>TD_1</th>\n",
       "      <th>TD_2</th>\n",
       "      <th>TD_3</th>\n",
       "      <th>class</th>\n",
       "      <th>year</th>\n",
       "    </tr>\n",
       "  </thead>\n",
       "  <tbody>\n",
       "    <tr>\n",
       "      <th>0</th>\n",
       "      <td>720</td>\n",
       "      <td>Olivier</td>\n",
       "      <td>Margoulin</td>\n",
       "      <td>11</td>\n",
       "      <td>13</td>\n",
       "      <td>11</td>\n",
       "      <td>TA</td>\n",
       "      <td>2023</td>\n",
       "    </tr>\n",
       "    <tr>\n",
       "      <th>1</th>\n",
       "      <td>365</td>\n",
       "      <td>Serguey</td>\n",
       "      <td>Prigogine</td>\n",
       "      <td>14</td>\n",
       "      <td>17</td>\n",
       "      <td>12</td>\n",
       "      <td>TA</td>\n",
       "      <td>2023</td>\n",
       "    </tr>\n",
       "    <tr>\n",
       "      <th>2</th>\n",
       "      <td>256</td>\n",
       "      <td>Aika</td>\n",
       "      <td>Tokogawa</td>\n",
       "      <td>13</td>\n",
       "      <td>15</td>\n",
       "      <td>10</td>\n",
       "      <td>TB</td>\n",
       "      <td>2023</td>\n",
       "    </tr>\n",
       "    <tr>\n",
       "      <th>3</th>\n",
       "      <td>130</td>\n",
       "      <td>Debasish</td>\n",
       "      <td>Sarker</td>\n",
       "      <td>15</td>\n",
       "      <td>14</td>\n",
       "      <td>12</td>\n",
       "      <td>TA</td>\n",
       "      <td>2023</td>\n",
       "    </tr>\n",
       "    <tr>\n",
       "      <th>4</th>\n",
       "      <td>899</td>\n",
       "      <td>Muhammad</td>\n",
       "      <td>Ben Amar</td>\n",
       "      <td>12</td>\n",
       "      <td>16</td>\n",
       "      <td>13</td>\n",
       "      <td>TB</td>\n",
       "      <td>2023</td>\n",
       "    </tr>\n",
       "    <tr>\n",
       "      <th>5</th>\n",
       "      <td>477</td>\n",
       "      <td>Lu</td>\n",
       "      <td>Ai</td>\n",
       "      <td>15</td>\n",
       "      <td>9</td>\n",
       "      <td>12</td>\n",
       "      <td>TB</td>\n",
       "      <td>2023</td>\n",
       "    </tr>\n",
       "    <tr>\n",
       "      <th>0</th>\n",
       "      <td>723</td>\n",
       "      <td>Jean</td>\n",
       "      <td>Moulin</td>\n",
       "      <td>11</td>\n",
       "      <td>13</td>\n",
       "      <td>11</td>\n",
       "      <td>TD</td>\n",
       "      <td>2024</td>\n",
       "    </tr>\n",
       "    <tr>\n",
       "      <th>1</th>\n",
       "      <td>665</td>\n",
       "      <td>Cixin</td>\n",
       "      <td>Liu</td>\n",
       "      <td>12</td>\n",
       "      <td>14</td>\n",
       "      <td>13</td>\n",
       "      <td>TC</td>\n",
       "      <td>2024</td>\n",
       "    </tr>\n",
       "    <tr>\n",
       "      <th>2</th>\n",
       "      <td>456</td>\n",
       "      <td>Marcos</td>\n",
       "      <td>Valle</td>\n",
       "      <td>15</td>\n",
       "      <td>13</td>\n",
       "      <td>6</td>\n",
       "      <td>TC</td>\n",
       "      <td>2024</td>\n",
       "    </tr>\n",
       "    <tr>\n",
       "      <th>3</th>\n",
       "      <td>830</td>\n",
       "      <td>Joko</td>\n",
       "      <td>Widodo</td>\n",
       "      <td>13</td>\n",
       "      <td>11</td>\n",
       "      <td>19</td>\n",
       "      <td>TD</td>\n",
       "      <td>2024</td>\n",
       "    </tr>\n",
       "    <tr>\n",
       "      <th>4</th>\n",
       "      <td>599</td>\n",
       "      <td>Benazir</td>\n",
       "      <td>Bhutto</td>\n",
       "      <td>12</td>\n",
       "      <td>17</td>\n",
       "      <td>11</td>\n",
       "      <td>TD</td>\n",
       "      <td>2024</td>\n",
       "    </tr>\n",
       "    <tr>\n",
       "      <th>5</th>\n",
       "      <td>977</td>\n",
       "      <td>Jafar</td>\n",
       "      <td>Panahi</td>\n",
       "      <td>14</td>\n",
       "      <td>9</td>\n",
       "      <td>7</td>\n",
       "      <td>TC</td>\n",
       "      <td>2024</td>\n",
       "    </tr>\n",
       "  </tbody>\n",
       "</table>\n",
       "</div>"
      ],
      "text/plain": [
       "    id first_name  last_name  TD_1  TD_2  TD_3 class  year\n",
       "0  720    Olivier  Margoulin    11    13    11    TA  2023\n",
       "1  365    Serguey  Prigogine    14    17    12    TA  2023\n",
       "2  256       Aika   Tokogawa    13    15    10    TB  2023\n",
       "3  130   Debasish     Sarker    15    14    12    TA  2023\n",
       "4  899   Muhammad   Ben Amar    12    16    13    TB  2023\n",
       "5  477         Lu         Ai    15     9    12    TB  2023\n",
       "0  723       Jean     Moulin    11    13    11    TD  2024\n",
       "1  665      Cixin        Liu    12    14    13    TC  2024\n",
       "2  456     Marcos      Valle    15    13     6    TC  2024\n",
       "3  830       Joko     Widodo    13    11    19    TD  2024\n",
       "4  599    Benazir     Bhutto    12    17    11    TD  2024\n",
       "5  977      Jafar     Panahi    14     9     7    TC  2024"
      ]
     },
     "execution_count": 130,
     "metadata": {},
     "output_type": "execute_result"
    }
   ],
   "source": [
    "df_2023 = pd.DataFrame({'id': [720,365,256,130,899,477],\n",
    "            'first_name':['Olivier', 'Serguey', 'Aika', 'Debasish', 'Muhammad', 'Lu'],\n",
    "            'last_name': ['Margoulin', 'Prigogine', 'Tokogawa', 'Sarker', 'Ben Amar', 'Ai'],           # Françine and Olivier are unrelated, so they say ...\n",
    "            'TD_1':[11,14,13,15,12,15],\n",
    "            'TD_2':[13,17,15,14,16,9],\n",
    "            'TD_3': [11,12,10,12,13,12],\n",
    "            'class': ['TA', 'TA', 'TB', 'TA', 'TB', 'TB'],\n",
    "            'year':2023})\n",
    "\n",
    "df_2024 = pd.DataFrame({'id': [723,665,456,830,599,977],\n",
    "            'first_name':['Jean', 'Cixin', 'Marcos', 'Joko', 'Benazir', 'Jafar'],\n",
    "            'last_name': ['Moulin', 'Liu', 'Valle', 'Widodo', 'Bhutto', 'Panahi'],          \n",
    "            'TD_1':[11,12,15,13,12,14],\n",
    "            'TD_2':[13,14,13,11,17,9],\n",
    "            'TD_3': [11,13,6,19,11,7],\n",
    "            'class': ['TD', 'TC', 'TC', 'TD', 'TD', 'TC'],\n",
    "            'year':2024})\n",
    "\n",
    "concatenated = pd.concat((df_2023, df_2024))\n",
    "concatenated "
   ]
  },
  {
   "cell_type": "markdown",
   "metadata": {},
   "source": [
    "Vous noterez que cette fois-ci, les indices de votre nouveau DataFrame ne sont pas bien intéressants. Si vous le souhaitez, vous pouvez les _réinitialiser_ avec la méthode `.reset_index()`. Si vous voulez complètement vous débarrasser de ces indices et ne pas les transférer dans une nouvelle colonne, précisez en plus `drop=True` : "
   ]
  },
  {
   "cell_type": "code",
   "execution_count": 132,
   "metadata": {},
   "outputs": [
    {
     "data": {
      "text/html": [
       "<div>\n",
       "<style scoped>\n",
       "    .dataframe tbody tr th:only-of-type {\n",
       "        vertical-align: middle;\n",
       "    }\n",
       "\n",
       "    .dataframe tbody tr th {\n",
       "        vertical-align: top;\n",
       "    }\n",
       "\n",
       "    .dataframe thead th {\n",
       "        text-align: right;\n",
       "    }\n",
       "</style>\n",
       "<table border=\"1\" class=\"dataframe\">\n",
       "  <thead>\n",
       "    <tr style=\"text-align: right;\">\n",
       "      <th></th>\n",
       "      <th>id</th>\n",
       "      <th>first_name</th>\n",
       "      <th>last_name</th>\n",
       "      <th>TD_1</th>\n",
       "      <th>TD_2</th>\n",
       "      <th>TD_3</th>\n",
       "      <th>class</th>\n",
       "      <th>year</th>\n",
       "    </tr>\n",
       "  </thead>\n",
       "  <tbody>\n",
       "    <tr>\n",
       "      <th>0</th>\n",
       "      <td>720</td>\n",
       "      <td>Olivier</td>\n",
       "      <td>Margoulin</td>\n",
       "      <td>11</td>\n",
       "      <td>13</td>\n",
       "      <td>11</td>\n",
       "      <td>TA</td>\n",
       "      <td>2023</td>\n",
       "    </tr>\n",
       "    <tr>\n",
       "      <th>1</th>\n",
       "      <td>365</td>\n",
       "      <td>Serguey</td>\n",
       "      <td>Prigogine</td>\n",
       "      <td>14</td>\n",
       "      <td>17</td>\n",
       "      <td>12</td>\n",
       "      <td>TA</td>\n",
       "      <td>2023</td>\n",
       "    </tr>\n",
       "    <tr>\n",
       "      <th>2</th>\n",
       "      <td>256</td>\n",
       "      <td>Aika</td>\n",
       "      <td>Tokogawa</td>\n",
       "      <td>13</td>\n",
       "      <td>15</td>\n",
       "      <td>10</td>\n",
       "      <td>TB</td>\n",
       "      <td>2023</td>\n",
       "    </tr>\n",
       "    <tr>\n",
       "      <th>3</th>\n",
       "      <td>130</td>\n",
       "      <td>Debasish</td>\n",
       "      <td>Sarker</td>\n",
       "      <td>15</td>\n",
       "      <td>14</td>\n",
       "      <td>12</td>\n",
       "      <td>TA</td>\n",
       "      <td>2023</td>\n",
       "    </tr>\n",
       "    <tr>\n",
       "      <th>4</th>\n",
       "      <td>899</td>\n",
       "      <td>Muhammad</td>\n",
       "      <td>Ben Amar</td>\n",
       "      <td>12</td>\n",
       "      <td>16</td>\n",
       "      <td>13</td>\n",
       "      <td>TB</td>\n",
       "      <td>2023</td>\n",
       "    </tr>\n",
       "    <tr>\n",
       "      <th>5</th>\n",
       "      <td>477</td>\n",
       "      <td>Lu</td>\n",
       "      <td>Ai</td>\n",
       "      <td>15</td>\n",
       "      <td>9</td>\n",
       "      <td>12</td>\n",
       "      <td>TB</td>\n",
       "      <td>2023</td>\n",
       "    </tr>\n",
       "    <tr>\n",
       "      <th>6</th>\n",
       "      <td>723</td>\n",
       "      <td>Jean</td>\n",
       "      <td>Moulin</td>\n",
       "      <td>11</td>\n",
       "      <td>13</td>\n",
       "      <td>11</td>\n",
       "      <td>TD</td>\n",
       "      <td>2024</td>\n",
       "    </tr>\n",
       "    <tr>\n",
       "      <th>7</th>\n",
       "      <td>665</td>\n",
       "      <td>Cixin</td>\n",
       "      <td>Liu</td>\n",
       "      <td>12</td>\n",
       "      <td>14</td>\n",
       "      <td>13</td>\n",
       "      <td>TC</td>\n",
       "      <td>2024</td>\n",
       "    </tr>\n",
       "    <tr>\n",
       "      <th>8</th>\n",
       "      <td>456</td>\n",
       "      <td>Marcos</td>\n",
       "      <td>Valle</td>\n",
       "      <td>15</td>\n",
       "      <td>13</td>\n",
       "      <td>6</td>\n",
       "      <td>TC</td>\n",
       "      <td>2024</td>\n",
       "    </tr>\n",
       "    <tr>\n",
       "      <th>9</th>\n",
       "      <td>830</td>\n",
       "      <td>Joko</td>\n",
       "      <td>Widodo</td>\n",
       "      <td>13</td>\n",
       "      <td>11</td>\n",
       "      <td>19</td>\n",
       "      <td>TD</td>\n",
       "      <td>2024</td>\n",
       "    </tr>\n",
       "    <tr>\n",
       "      <th>10</th>\n",
       "      <td>599</td>\n",
       "      <td>Benazir</td>\n",
       "      <td>Bhutto</td>\n",
       "      <td>12</td>\n",
       "      <td>17</td>\n",
       "      <td>11</td>\n",
       "      <td>TD</td>\n",
       "      <td>2024</td>\n",
       "    </tr>\n",
       "    <tr>\n",
       "      <th>11</th>\n",
       "      <td>977</td>\n",
       "      <td>Jafar</td>\n",
       "      <td>Panahi</td>\n",
       "      <td>14</td>\n",
       "      <td>9</td>\n",
       "      <td>7</td>\n",
       "      <td>TC</td>\n",
       "      <td>2024</td>\n",
       "    </tr>\n",
       "  </tbody>\n",
       "</table>\n",
       "</div>"
      ],
      "text/plain": [
       "     id first_name  last_name  TD_1  TD_2  TD_3 class  year\n",
       "0   720    Olivier  Margoulin    11    13    11    TA  2023\n",
       "1   365    Serguey  Prigogine    14    17    12    TA  2023\n",
       "2   256       Aika   Tokogawa    13    15    10    TB  2023\n",
       "3   130   Debasish     Sarker    15    14    12    TA  2023\n",
       "4   899   Muhammad   Ben Amar    12    16    13    TB  2023\n",
       "5   477         Lu         Ai    15     9    12    TB  2023\n",
       "6   723       Jean     Moulin    11    13    11    TD  2024\n",
       "7   665      Cixin        Liu    12    14    13    TC  2024\n",
       "8   456     Marcos      Valle    15    13     6    TC  2024\n",
       "9   830       Joko     Widodo    13    11    19    TD  2024\n",
       "10  599    Benazir     Bhutto    12    17    11    TD  2024\n",
       "11  977      Jafar     Panahi    14     9     7    TC  2024"
      ]
     },
     "execution_count": 132,
     "metadata": {},
     "output_type": "execute_result"
    }
   ],
   "source": [
    "concatenated.reset_index(drop=True)"
   ]
  },
  {
   "cell_type": "markdown",
   "metadata": {},
   "source": [
    "Alternativement, vous pouvez décider d'indicer le nouveau tableau avec les `id` des élèves. On peut une fois de plus utiliser `.set_index()` pour l'effectuer, et si vous souhaitez trier les `id` par ordre croissant, vous pouvez appeler la méthode `.sort_index()` qui va ... comme son nom l'indique ... trier les indices :"
   ]
  },
  {
   "cell_type": "code",
   "execution_count": 136,
   "metadata": {},
   "outputs": [
    {
     "data": {
      "text/html": [
       "<div>\n",
       "<style scoped>\n",
       "    .dataframe tbody tr th:only-of-type {\n",
       "        vertical-align: middle;\n",
       "    }\n",
       "\n",
       "    .dataframe tbody tr th {\n",
       "        vertical-align: top;\n",
       "    }\n",
       "\n",
       "    .dataframe thead th {\n",
       "        text-align: right;\n",
       "    }\n",
       "</style>\n",
       "<table border=\"1\" class=\"dataframe\">\n",
       "  <thead>\n",
       "    <tr style=\"text-align: right;\">\n",
       "      <th></th>\n",
       "      <th>first_name</th>\n",
       "      <th>last_name</th>\n",
       "      <th>TD_1</th>\n",
       "      <th>TD_2</th>\n",
       "      <th>TD_3</th>\n",
       "      <th>class</th>\n",
       "      <th>year</th>\n",
       "    </tr>\n",
       "    <tr>\n",
       "      <th>id</th>\n",
       "      <th></th>\n",
       "      <th></th>\n",
       "      <th></th>\n",
       "      <th></th>\n",
       "      <th></th>\n",
       "      <th></th>\n",
       "      <th></th>\n",
       "    </tr>\n",
       "  </thead>\n",
       "  <tbody>\n",
       "    <tr>\n",
       "      <th>130</th>\n",
       "      <td>Debasish</td>\n",
       "      <td>Sarker</td>\n",
       "      <td>15</td>\n",
       "      <td>14</td>\n",
       "      <td>12</td>\n",
       "      <td>TA</td>\n",
       "      <td>2023</td>\n",
       "    </tr>\n",
       "    <tr>\n",
       "      <th>256</th>\n",
       "      <td>Aika</td>\n",
       "      <td>Tokogawa</td>\n",
       "      <td>13</td>\n",
       "      <td>15</td>\n",
       "      <td>10</td>\n",
       "      <td>TB</td>\n",
       "      <td>2023</td>\n",
       "    </tr>\n",
       "    <tr>\n",
       "      <th>365</th>\n",
       "      <td>Serguey</td>\n",
       "      <td>Prigogine</td>\n",
       "      <td>14</td>\n",
       "      <td>17</td>\n",
       "      <td>12</td>\n",
       "      <td>TA</td>\n",
       "      <td>2023</td>\n",
       "    </tr>\n",
       "    <tr>\n",
       "      <th>456</th>\n",
       "      <td>Marcos</td>\n",
       "      <td>Valle</td>\n",
       "      <td>15</td>\n",
       "      <td>13</td>\n",
       "      <td>6</td>\n",
       "      <td>TC</td>\n",
       "      <td>2024</td>\n",
       "    </tr>\n",
       "    <tr>\n",
       "      <th>477</th>\n",
       "      <td>Lu</td>\n",
       "      <td>Ai</td>\n",
       "      <td>15</td>\n",
       "      <td>9</td>\n",
       "      <td>12</td>\n",
       "      <td>TB</td>\n",
       "      <td>2023</td>\n",
       "    </tr>\n",
       "    <tr>\n",
       "      <th>599</th>\n",
       "      <td>Benazir</td>\n",
       "      <td>Bhutto</td>\n",
       "      <td>12</td>\n",
       "      <td>17</td>\n",
       "      <td>11</td>\n",
       "      <td>TD</td>\n",
       "      <td>2024</td>\n",
       "    </tr>\n",
       "    <tr>\n",
       "      <th>665</th>\n",
       "      <td>Cixin</td>\n",
       "      <td>Liu</td>\n",
       "      <td>12</td>\n",
       "      <td>14</td>\n",
       "      <td>13</td>\n",
       "      <td>TC</td>\n",
       "      <td>2024</td>\n",
       "    </tr>\n",
       "    <tr>\n",
       "      <th>720</th>\n",
       "      <td>Olivier</td>\n",
       "      <td>Margoulin</td>\n",
       "      <td>11</td>\n",
       "      <td>13</td>\n",
       "      <td>11</td>\n",
       "      <td>TA</td>\n",
       "      <td>2023</td>\n",
       "    </tr>\n",
       "    <tr>\n",
       "      <th>723</th>\n",
       "      <td>Jean</td>\n",
       "      <td>Moulin</td>\n",
       "      <td>11</td>\n",
       "      <td>13</td>\n",
       "      <td>11</td>\n",
       "      <td>TD</td>\n",
       "      <td>2024</td>\n",
       "    </tr>\n",
       "    <tr>\n",
       "      <th>830</th>\n",
       "      <td>Joko</td>\n",
       "      <td>Widodo</td>\n",
       "      <td>13</td>\n",
       "      <td>11</td>\n",
       "      <td>19</td>\n",
       "      <td>TD</td>\n",
       "      <td>2024</td>\n",
       "    </tr>\n",
       "    <tr>\n",
       "      <th>899</th>\n",
       "      <td>Muhammad</td>\n",
       "      <td>Ben Amar</td>\n",
       "      <td>12</td>\n",
       "      <td>16</td>\n",
       "      <td>13</td>\n",
       "      <td>TB</td>\n",
       "      <td>2023</td>\n",
       "    </tr>\n",
       "    <tr>\n",
       "      <th>977</th>\n",
       "      <td>Jafar</td>\n",
       "      <td>Panahi</td>\n",
       "      <td>14</td>\n",
       "      <td>9</td>\n",
       "      <td>7</td>\n",
       "      <td>TC</td>\n",
       "      <td>2024</td>\n",
       "    </tr>\n",
       "  </tbody>\n",
       "</table>\n",
       "</div>"
      ],
      "text/plain": [
       "    first_name  last_name  TD_1  TD_2  TD_3 class  year\n",
       "id                                                     \n",
       "130   Debasish     Sarker    15    14    12    TA  2023\n",
       "256       Aika   Tokogawa    13    15    10    TB  2023\n",
       "365    Serguey  Prigogine    14    17    12    TA  2023\n",
       "456     Marcos      Valle    15    13     6    TC  2024\n",
       "477         Lu         Ai    15     9    12    TB  2023\n",
       "599    Benazir     Bhutto    12    17    11    TD  2024\n",
       "665      Cixin        Liu    12    14    13    TC  2024\n",
       "720    Olivier  Margoulin    11    13    11    TA  2023\n",
       "723       Jean     Moulin    11    13    11    TD  2024\n",
       "830       Joko     Widodo    13    11    19    TD  2024\n",
       "899   Muhammad   Ben Amar    12    16    13    TB  2023\n",
       "977      Jafar     Panahi    14     9     7    TC  2024"
      ]
     },
     "execution_count": 136,
     "metadata": {},
     "output_type": "execute_result"
    }
   ],
   "source": [
    "concatenated.set_index('id').sort_index()"
   ]
  },
  {
   "cell_type": "markdown",
   "metadata": {},
   "source": [
    "**Exercice 1** : Vous l'avez vu venir ... essayez de déterminer la moyenne générale des élèves pour 2017 et 2018 ! "
   ]
  },
  {
   "cell_type": "code",
   "execution_count": 128,
   "metadata": {},
   "outputs": [],
   "source": [
    "# Your code here !"
   ]
  },
  {
   "cell_type": "markdown",
   "metadata": {},
   "source": [
    "**Exercice 2** : La fonction suivante renvoie un dictionnaire à chaque appel. Appelez cette fonction trois cent fois, environ cent fois par seconde, puis concaténez vos résultats.\n",
    "Essayez ensuite d'effectuer une moyenne de vos résultats pour chaque seconde, ainsi que l'écart-type `std()` de la distribution de ces valeurs."
   ]
  },
  {
   "cell_type": "code",
   "execution_count": 129,
   "metadata": {},
   "outputs": [],
   "source": [
    "from datetime import datetime\n",
    "from numpy import random\n",
    "from time import sleep\n",
    "\n",
    "def fetch():\n",
    "    now = datetime.now().strftime('%H-%M-%S')\n",
    "    result = random.choice(50, size=2)\n",
    "    proba = random.uniform(0,1, size=2)\n",
    "    return pd.DataFrame({'time':now, 'result':result, 'proba':proba})\n",
    "\n",
    "########################################################################\n",
    "### DO NOT TOUCH THE CODE ABOVE THIS LINE ##############################\n",
    "########################################################################\n",
    "\n"
   ]
  },
  {
   "cell_type": "markdown",
   "metadata": {},
   "source": [
    "**Vous voici un.e champion.ne de Pandas !** Voici un emoji pour vous récompenser ! 🐼"
   ]
  },
  {
   "cell_type": "markdown",
   "metadata": {},
   "source": []
  }
 ],
 "metadata": {
  "kernelspec": {
   "display_name": "Python 3 (ipykernel)",
   "language": "python",
   "name": "python3"
  },
  "language_info": {
   "codemirror_mode": {
    "name": "ipython",
    "version": 3
   },
   "file_extension": ".py",
   "mimetype": "text/x-python",
   "name": "python",
   "nbconvert_exporter": "python",
   "pygments_lexer": "ipython3",
   "version": "3.11.6"
  },
  "vscode": {
   "interpreter": {
    "hash": "cb9c252e610b593a3421828f92740a33c32c552b9658c846af1824aa6c7c0cc9"
   }
  }
 },
 "nbformat": 4,
 "nbformat_minor": 4
}
